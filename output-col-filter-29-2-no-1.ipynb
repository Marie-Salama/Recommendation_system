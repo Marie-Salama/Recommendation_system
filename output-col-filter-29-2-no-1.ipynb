{
 "cells": [
  {
   "cell_type": "code",
   "execution_count": 3,
   "id": "617549ff",
   "metadata": {},
   "outputs": [],
   "source": [
    "import pandas as pd\n",
    "import json\n",
    "from collections import Counter\n",
    "import os"
   ]
  },
  {
   "cell_type": "code",
   "execution_count": 4,
   "id": "448b47e3",
   "metadata": {},
   "outputs": [],
   "source": [
    "# Read the CSV file into a DataFrame\n",
    "df = pd.read_csv('recommendation_dataset.csv')"
   ]
  },
  {
   "cell_type": "code",
   "execution_count": 5,
   "id": "38f0c424",
   "metadata": {},
   "outputs": [],
   "source": [
    "def recommend_areas(origin, destination, top_n=3):\n",
    "    locations = df[df['Origin'] == origin][destination]  # Filter by origin and destination\n",
    "    counter = Counter(locations)\n",
    "    top_areas = [area for area, _ in counter.most_common(top_n)]  # Extract only the area names\n",
    "    return top_areas\n",
    "\n",
    "def recommend_areas_with_most_tenants(user_origin, user_destination, top_n=3):\n",
    "    recommended_areas = recommend_areas(user_origin, user_destination, top_n)\n",
    "    return recommended_areas"
   ]
  },
  {
   "cell_type": "code",
   "execution_count": 6,
   "id": "b2eba516",
   "metadata": {},
   "outputs": [
    {
     "name": "stdout",
     "output_type": "stream",
     "text": [
      "Enter your origin: Cairo\n",
      "Enter your destination: Alexandria\n"
     ]
    }
   ],
   "source": [
    "user_origin = input(\"Enter your origin: \")\n",
    "user_destination = input(\"Enter your destination: \")\n",
    "recommended_areas = recommend_areas_with_most_tenants(user_origin, user_destination)"
   ]
  },
  {
   "cell_type": "code",
   "execution_count": 7,
   "id": "b74ed7cc",
   "metadata": {},
   "outputs": [],
   "source": [
    "# Convert the output to a JSON string\n",
    "output_json = json.dumps(recommended_areas)"
   ]
  },
  {
   "cell_type": "code",
   "execution_count": 8,
   "id": "a0dace1d",
   "metadata": {},
   "outputs": [],
   "source": [
    "# Write the JSON string to a file\n",
    "output_file = open('recommendation_output.json', 'w')\n",
    "output_file.write(output_json)\n",
    "output_file.close()"
   ]
  },
  {
   "cell_type": "code",
   "execution_count": 9,
   "id": "cd6739c3",
   "metadata": {},
   "outputs": [
    {
     "name": "stdout",
     "output_type": "stream",
     "text": [
      "Current working directory: C:\\Users\\Mega Store\\recomendation_system\n"
     ]
    }
   ],
   "source": [
    "#to know where the json file saved\n",
    "current_directory = os.getcwd()\n",
    "print(\"Current working directory:\", current_directory)"
   ]
  },
  {
   "cell_type": "code",
   "execution_count": null,
   "id": "789f2d0a",
   "metadata": {},
   "outputs": [],
   "source": []
  }
 ],
 "metadata": {
  "kernelspec": {
   "display_name": "Python 3 (ipykernel)",
   "language": "python",
   "name": "python3"
  },
  "language_info": {
   "codemirror_mode": {
    "name": "ipython",
    "version": 3
   },
   "file_extension": ".py",
   "mimetype": "text/x-python",
   "name": "python",
   "nbconvert_exporter": "python",
   "pygments_lexer": "ipython3",
   "version": "3.11.5"
  }
 },
 "nbformat": 4,
 "nbformat_minor": 5
}
