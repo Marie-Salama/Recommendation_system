{
 "cells": [
  {
   "cell_type": "code",
   "execution_count": 4,
   "id": "f85bfa6e",
   "metadata": {},
   "outputs": [],
   "source": [
    "import pandas as pd\n",
    "import random"
   ]
  },
  {
   "cell_type": "code",
   "execution_count": 11,
   "id": "bc0b1575",
   "metadata": {},
   "outputs": [],
   "source": [
    "# Generating a larger dataset with 100 rows\n",
    "data = {\n",
    "    'User_ID': list(range(1, 1001)),\n",
    "    'Origin': random.choices(['Cairo', 'Giza', 'Alexandria', 'Shubra al Khaymah', 'Halwan', 'Al Mahallah al Kubra', \n",
    "                              'Tanta', 'Asyut', 'Al Fayyum', 'Az Zaqaziq', 'Al Ajami', 'Kafr ad Dawwar', \n",
    "                              'Damanhur', 'Al Minya', 'Mallawi', 'Damietta', 'Qina', 'Bani Suwayf', \n",
    "                              'Shibin al Kawm', 'Banha', 'Kafr ash Shaykh', 'Disuq', 'Mit Ghamr', \n",
    "                              'Munuf', 'Faqus', 'Qalyub', 'Jirja', 'Akhmim', 'Al Badrashayn', \n",
    "                              'Al Khankah', 'Izbat al Burj', 'Kirdasah', 'Abnub', 'Al Minshah', \n",
    "                              'Al Qurayn', 'Al Balyana', 'Al Ayyat', 'Al Badari', 'Kafr al Kurdi', \n",
    "                              'Abu Qir', 'Al Karnak', 'Mit Nama', 'Bani Murr', 'Al Madamud', \n",
    "                              'Birqash', 'Kafr Tahlah'], k=1000),\n",
    "    'Alexandria': random.choices(['Seyouf', 'San Stefano', 'Louran', 'Sidi Bishr'], k=1000),\n",
    "    'Cairo': random.choices(['Maadi', 'Heliopolis', 'Nasr City', '6th of October'], k=1000),\n",
    "    'Aswan': random.choices(['Daraw', 'Edfu', 'Abu Simbel'], k=1000),\n",
    "}\n",
    "\n",
    "df = pd.DataFrame(data)"
   ]
  },
  {
   "cell_type": "code",
   "execution_count": 12,
   "id": "226ec93e",
   "metadata": {},
   "outputs": [],
   "source": [
    "# Save the dataset to a CSV file\n",
    "df.to_csv('recommendation_dataset.csv', index=False)"
   ]
  },
  {
   "cell_type": "code",
   "execution_count": null,
   "id": "4bb8f0a0",
   "metadata": {},
   "outputs": [],
   "source": []
  }
 ],
 "metadata": {
  "kernelspec": {
   "display_name": "Python 3 (ipykernel)",
   "language": "python",
   "name": "python3"
  },
  "language_info": {
   "codemirror_mode": {
    "name": "ipython",
    "version": 3
   },
   "file_extension": ".py",
   "mimetype": "text/x-python",
   "name": "python",
   "nbconvert_exporter": "python",
   "pygments_lexer": "ipython3",
   "version": "3.11.5"
  }
 },
 "nbformat": 4,
 "nbformat_minor": 5
}
