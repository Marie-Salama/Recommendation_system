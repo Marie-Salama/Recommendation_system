{
 "cells": [
  {
   "cell_type": "code",
   "execution_count": 1,
   "id": "407978f8",
   "metadata": {},
   "outputs": [],
   "source": [
    "#the perfect one!!!!!!!!!!!!!!!!!!!!!!!!!!!!!!!!!!!!!!!!!!!!!!!T_T\n",
    "#didn't make the output to json yet\n",
    "import pandas as pd\n",
    "from collections import Counter\n",
    "#that recommendation system is counting the occurrences of locations in the cities columns, \n",
    "#recommend the area based on the most one with tenants"
   ]
  },
  {
   "cell_type": "code",
   "execution_count": 2,
   "id": "48833b94",
   "metadata": {},
   "outputs": [],
   "source": [
    "# Read the CSV file into a DataFrame\n",
    "df = pd.read_csv('recommendation_dataset.csv')"
   ]
  },
  {
   "cell_type": "code",
   "execution_count": 3,
   "id": "2a05a3d5",
   "metadata": {},
   "outputs": [],
   "source": [
    "def recommend_area(origin, destination):\n",
    "    locations = df[df['Origin'] == origin][destination]  # Filter by origin and destination\n",
    "    counter = Counter(locations)\n",
    "    print(\"Locations and their counts:\")\n",
    "    for loc, count in counter.items():\n",
    "        print(f\"{loc}: {count}\")\n",
    "    area = counter.most_common(1)[0][0]\n",
    "    return area\n",
    "\n",
    "\n",
    "def recommend_area_with_most_tenants(user_origin, user_destination):\n",
    "    recommended_area = recommend_area(user_origin, user_destination)\n",
    "    return recommended_area"
   ]
  },
  {
   "cell_type": "code",
   "execution_count": 4,
   "id": "2f78a386",
   "metadata": {},
   "outputs": [
    {
     "name": "stdout",
     "output_type": "stream",
     "text": [
      "Enter your origin: Cairo\n",
      "Enter your destination: Alexandria\n",
      "Locations and their counts:\n",
      "Louran: 5\n",
      "Seyouf: 3\n",
      "San Stefano: 6\n",
      "Sidi Bishr: 3\n",
      "Area with the largest number of tenants from the same origin: San Stefano\n"
     ]
    }
   ],
   "source": [
    "user_origin = input(\"Enter your origin: \")\n",
    "user_destination = input(\"Enter your destination: \")\n",
    "recommended_area = recommend_area_with_most_tenants(user_origin, user_destination)\n",
    "print(\"Area with the largest number of tenants from the same origin:\", recommended_area)"
   ]
  },
  {
   "cell_type": "code",
   "execution_count": null,
   "id": "f6155e99",
   "metadata": {},
   "outputs": [],
   "source": []
  }
 ],
 "metadata": {
  "kernelspec": {
   "display_name": "Python 3 (ipykernel)",
   "language": "python",
   "name": "python3"
  },
  "language_info": {
   "codemirror_mode": {
    "name": "ipython",
    "version": 3
   },
   "file_extension": ".py",
   "mimetype": "text/x-python",
   "name": "python",
   "nbconvert_exporter": "python",
   "pygments_lexer": "ipython3",
   "version": "3.11.5"
  }
 },
 "nbformat": 4,
 "nbformat_minor": 5
}
